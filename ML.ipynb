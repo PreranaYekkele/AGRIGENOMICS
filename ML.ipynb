{
 "cells": [
  {
   "cell_type": "code",
   "execution_count": 2,
   "metadata": {},
   "outputs": [],
   "source": [
    "from sklearn.linear_model import LogisticRegression\n",
    "\n",
    "lr_height = LogisticRegression(max_iter=1000, random_state=42)\n"
   ]
  },
  {
   "cell_type": "code",
   "execution_count": 12,
   "metadata": {},
   "outputs": [
    {
     "name": "stdout",
     "output_type": "stream",
     "text": [
      "     Cluster ID cultivar id subpopulation  sequences  mean_height  0  1  2  3   \n",
      "0             1        C001        Indica  GCTTTTCCC      138.265  3  2  1  1  \\\n",
      "1             1        W261  Intermediate  GCTTTTCCC      138.265  3  2  1  1   \n",
      "2             2        W306   VI/Aromatic  GCTGTTCCC      129.600  3  2  1  3   \n",
      "3             3        C128        Indica  GCTTTTTCC      156.070  3  2  1  1   \n",
      "4             3        C180        Indica  GCTTTTTCC      156.070  3  2  1  1   \n",
      "..          ...         ...           ...        ...          ... .. .. .. ..   \n",
      "523          73        W071        Indica  GCCGTATTT      117.345  3  2  2  3   \n",
      "524          73        W146        Indica  GCCGTATTT      117.345  3  2  2  3   \n",
      "525          73        W178        Indica  GCCGTATTT      117.345  3  2  2  3   \n",
      "526          73        W221        Indica  GCCGTATTT      117.345  3  2  2  3   \n",
      "527          73        W310        Indica  GCCGTATTT      117.345  3  2  2  3   \n",
      "\n",
      "     4  5  6  7  8  \n",
      "0    1  1  2  2  2  \n",
      "1    1  1  2  2  2  \n",
      "2    1  1  2  2  2  \n",
      "3    1  1  1  2  2  \n",
      "4    1  1  1  2  2  \n",
      "..  .. .. .. .. ..  \n",
      "523  1  0  1  1  1  \n",
      "524  1  0  1  1  1  \n",
      "525  1  0  1  1  1  \n",
      "526  1  0  1  1  1  \n",
      "527  1  0  1  1  1  \n",
      "\n",
      "[528 rows x 14 columns]\n"
     ]
    }
   ],
   "source": [
    "import pandas as pd\n",
    "import numpy as np\n",
    "data = pd.read_csv('phylogeny.csv')\n",
    "dicc = {'A': 0, 'T': 1, 'C': 2, 'G': 3}\n",
    "encoded_sequences = []\n",
    "for sequence in data['sequences']:\n",
    "    encoded_sequence = np.array([dicc[nucleotide] for nucleotide in sequence])\n",
    "    encoded_sequences.append(encoded_sequence)\n",
    "encoded_data = pd.DataFrame(encoded_sequences)\n",
    "encoded_data = pd.concat([data, encoded_data], axis=1)\n",
    "encoded_data.to_csv(\"encoded.csv\")\n",
    "print(encoded_data)\n"
   ]
  },
  {
   "cell_type": "code",
   "execution_count": null,
   "metadata": {},
   "outputs": [
    {
     "name": "stdout",
     "output_type": "stream",
     "text": [
      "ACTGTACTT\n",
      "Predicted subpopulation: ['Temperate']\n",
      "Predicted height: [99.38333333]\n"
     ]
    }
   ],
   "source": [
    "import pandas as pd\n",
    "import numpy as np\n",
    "from sklearn.model_selection import train_test_split\n",
    "from sklearn.metrics import accuracy_score\n",
    "from sklearn.ensemble import RandomForestClassifier, RandomForestRegressor\n",
    "encoded_data = pd.read_csv('encoded.csv')\n",
    "X = encoded_data.iloc[:, 6:].values\n",
    "y_subpopulation = encoded_data['subpopulation'].values\n",
    "y_height = encoded_data['mean_height'].values\n",
    "X_train, X_test, y_subpopulation_train, y_subpopulation_test, y_height_train, y_height_test = train_test_split(X, y_subpopulation, y_height, test_size=0.2, random_state=42)\n",
    "rf_classifier = RandomForestClassifier(n_estimators=100, random_state=42)\n",
    "rf_classifier.fit(X_train, y_subpopulation_train)\n",
    "rf_regressor = RandomForestRegressor(n_estimators=100, random_state=42)\n",
    "rf_regressor.fit(X_train, y_height_train)\n",
    "new_seq = input(\"Enter DNA sequence: \")\n",
    "print(new_seq)\n",
    "new_seq_encoded = np.array([dicc[nucleotide] for nucleotide in new_seq])\n",
    "new_seq_encoded = new_seq_encoded.reshape(1, -1)\n",
    "predicted_subpopulation = rf_classifier.predict(new_seq_encoded)\n",
    "predicted_height = rf_regressor.predict(new_seq_encoded)\n",
    "print(\"Predicted subpopulation:\", predicted_subpopulation)\n",
    "print(\"Predicted height:\", predicted_height)\n"
   ]
  },
  {
   "cell_type": "code",
   "execution_count": null,
   "metadata": {},
   "outputs": [
    {
     "name": "stdout",
     "output_type": "stream",
     "text": [
      "Accuracy: 0.8490566037735849\n"
     ]
    }
   ],
   "source": [
    "accuracy = accuracy_score(y_subpopulation_test, rf_classifier.predict(X_test))\n",
    "print(\"Accuracy:\", accuracy)\n"
   ]
  },
  {
   "cell_type": "code",
   "execution_count": null,
   "metadata": {},
   "outputs": [
    {
     "name": "stdout",
     "output_type": "stream",
     "text": [
      "R-squared score: 0.945668579924902\n"
     ]
    }
   ],
   "source": [
    "r2_score = rf_regressor.score(X_test, y_height_test)\n",
    "print(\"R-squared score:\", r2_score)\n"
   ]
  },
  {
   "cell_type": "code",
   "execution_count": null,
   "metadata": {},
   "outputs": [
    {
     "name": "stdout",
     "output_type": "stream",
     "text": [
      "CCCCCCCCC\n",
      "Predicted subpopulation: ['VI/Aromatic']\n",
      "Accuracy: 0.8490566037735849\n"
     ]
    }
   ],
   "source": [
    "\n",
    "encoded_data = pd.read_csv('encoded.csv')\n",
    "X = encoded_data.iloc[:, 6:].values \n",
    "y = encoded_data['subpopulation'].values\n",
    "X_train, X_test, y_train, y_test = train_test_split(X, y, test_size=0.2, random_state=42)\n",
    "rf_classifier = RandomForestClassifier(n_estimators=100, max_depth=15, random_state=42)\n",
    "rf_classifier.fit(X_train, y_train)\n",
    "y_pred = rf_classifier.predict(X_test)\n",
    "new_seq = input(\"DNA sequence: \")\n",
    "print(new_seq)\n",
    "new_seq_encoded = [dicc[nucleotide] for nucleotide in new_seq]\n",
    "new_seq_encoded = np.array(new_seq_encoded).reshape(1, -1)  \n",
    "predicted_subpopulation = rf_classifier.predict(new_seq_encoded)\n",
    "print(\"Predicted subpopulation:\", predicted_subpopulation)\n",
    "accuracy = accuracy_score(y_test, y_pred)\n",
    "print(\"Accuracy:\", str(round(accuracy*100,2))+\"%\")\n"
   ]
  },
  {
   "cell_type": "code",
   "execution_count": 6,
   "metadata": {},
   "outputs": [
    {
     "name": "stdout",
     "output_type": "stream",
     "text": [
      "ATGGCTGTT\n",
      "Predicted subpopulation: ['Intermediate']\n",
      "Predicted height: [160.17124211]\n"
     ]
    }
   ],
   "source": [
    "import pickle\n",
    "import pandas as pd\n",
    "import numpy as np\n",
    "from sklearn.model_selection import train_test_split\n",
    "from sklearn.metrics import accuracy_score\n",
    "from sklearn.ensemble import RandomForestClassifier, RandomForestRegressor\n",
    "data = pd.read_csv('phylogeny.csv')\n",
    "dicc = {'A': 0, 'T': 1, 'C': 2, 'G': 3}\n",
    "encoded_sequences = []\n",
    "for sequence in data['sequences']:\n",
    "    encoded_sequence = np.array([dicc[nucleotide] for nucleotide in sequence])\n",
    "    encoded_sequences.append(encoded_sequence)\n",
    "encoded_data = pd.DataFrame(encoded_sequences)\n",
    "encoded_data = pd.concat([data, encoded_data], axis=1)\n",
    "encoded_data.to_csv(\"encoded.csv\")\n",
    "encoded_data = pd.read_csv('encoded.csv')\n",
    "X = encoded_data.iloc[:, 6:].values\n",
    "y_subpopulation = encoded_data['subpopulation'].values\n",
    "y_height = encoded_data['mean_height'].values\n",
    "X_train, X_test, y_subpopulation_train, y_subpopulation_test, y_height_train, y_height_test = train_test_split(X, y_subpopulation, y_height, test_size=0.2, random_state=42)\n",
    "rf_classifier = RandomForestClassifier(n_estimators=100, random_state=42)\n",
    "rf_classifier.fit(X_train, y_subpopulation_train)\n",
    "rf_regressor = RandomForestRegressor(n_estimators=100, random_state=42)\n",
    "rf_regressor.fit(X_train, y_height_train)\n",
    "new_seq = input(\"Enter DNA sequence: \")\n",
    "print(new_seq)\n",
    "new_seq_encoded = np.array([dicc[nucleotide] for nucleotide in new_seq])\n",
    "new_seq_encoded = new_seq_encoded.reshape(1, -1)\n",
    "predicted_subpopulation = rf_classifier.predict(new_seq_encoded)\n",
    "predicted_height = rf_regressor.predict(new_seq_encoded)\n",
    "print(\"Predicted subpopulation:\", predicted_subpopulation)\n",
    "print(\"Predicted height:\", predicted_height)\n",
    "with open(\"rf_model.pkl\", \"wb\") as file:\n",
    "    pickle.dump(rf_classifier, file)\n"
   ]
  },
  {
   "cell_type": "code",
   "execution_count": 7,
   "metadata": {},
   "outputs": [
    {
     "data": {
      "image/png": "[encoded data removed]",
      "text/plain": [
       "<Figure size 800x600 with 3 Axes>"
      ]
     },
     "metadata": {},
     "output_type": "display_data"
    }
   ],
   "source": [
    "import matplotlib.pyplot as plt\n",
    "import numpy as np\n",
    "\n",
    "\n",
    "models = ['Random Forest', 'KNN', 'SVM', 'Gradient Boosting']\n",
    "subpopulation = [0.84, 0.87, 0.33, 0.70]\n",
    "height = [0.85, 0.82, 0.031, 0.71]\n",
    "yield_data = [0.83, 0.11, 0.036, 0.67]\n",
    "\n",
    "\n",
    "y_pos = np.arange(len(models))\n",
    "\n",
    "\n",
    "fig, axs = plt.subplots(3, 1, figsize=(8, 6))\n",
    "\n",
    "\n",
    "axs[0].barh(y_pos, subpopulation, align='center')\n",
    "axs[0].set_title('Subpopulation')\n",
    "axs[0].set_yticks(y_pos)\n",
    "axs[0].set_yticklabels(models)\n",
    "axs[0].set_xlabel('Value')\n",
    "\n",
    "\n",
    "axs[1].barh(y_pos, height, align='center')\n",
    "axs[1].set_title('Height')\n",
    "axs[1].set_yticks(y_pos)\n",
    "axs[1].set_yticklabels(models)\n",
    "axs[1].set_xlabel('Value')\n",
    "\n",
    "axs[2].barh(y_pos, yield_data, align='center')\n",
    "axs[2].set_title('Yield')\n",
    "axs[2].set_yticks(y_pos)\n",
    "axs[2].set_yticklabels(models)\n",
    "axs[2].set_xlabel('Value')\n",
    "\n",
    "plt.tight_layout()\n",
    "plt.show()\n"
   ]
  },
  {
   "cell_type": "code",
   "execution_count": 8,
   "metadata": {},
   "outputs": [
    {
     "name": "stdout",
     "output_type": "stream",
     "text": [
      "KNN Classification Accuracy: 0.8207547169811321\n",
      "KNN Regression R-squared score: 0.8798230049154304\n"
     ]
    }
   ],
   "source": [
    "from sklearn.neighbors import KNeighborsClassifier, KNeighborsRegressor\n",
    "knn_classifier = KNeighborsClassifier(n_neighbors=5)\n",
    "knn_classifier.fit(X_train, y_subpopulation_train)\n",
    "predicted_subpopulation_knn = knn_classifier.predict(new_seq_encoded)\n",
    "knn_regressor = KNeighborsRegressor(n_neighbors=5)\n",
    "knn_regressor.fit(X_train, y_height_train)\n",
    "predicted_height_knn = knn_regressor.predict(new_seq_encoded)\n",
    "accuracy_knn = accuracy_score(y_subpopulation_test, knn_classifier.predict(X_test))\n",
    "print(\"KNN Classification Accuracy:\", accuracy_knn)\n",
    "r2_score_knn = knn_regressor.score(X_test, y_height_test)\n",
    "print(\"KNN Regression R-squared score:\", r2_score_knn)\n"
   ]
  },
  {
   "cell_type": "code",
   "execution_count": 9,
   "metadata": {},
   "outputs": [
    {
     "name": "stdout",
     "output_type": "stream",
     "text": [
      "SVM Classification Accuracy: 0.839622641509434\n",
      "SVM Regression R-squared score: 0.7815347366833316\n"
     ]
    }
   ],
   "source": [
    "from sklearn.svm import SVC, SVR\n",
    "\n",
    "\n",
    "svm_classifier = SVC(kernel='linear', random_state=42)\n",
    "svm_classifier.fit(X_train, y_subpopulation_train)\n",
    "predicted_subpopulation_svm = svm_classifier.predict(new_seq_encoded)\n",
    "\n",
    "\n",
    "svm_regressor = SVR(kernel='linear')\n",
    "svm_regressor.fit(X_train, y_height_train)\n",
    "predicted_height_svm = svm_regressor.predict(new_seq_encoded)\n",
    "\n",
    "accuracy_svm = accuracy_score(y_subpopulation_test, svm_classifier.predict(X_test))\n",
    "print(\"SVM Classification Accuracy:\", accuracy_svm)\n",
    "\n",
    "r2_score_svm = svm_regressor.score(X_test, y_height_test)\n",
    "print(\"SVM Regression R-squared score:\", r2_score_svm)\n"
   ]
  },
  {
   "cell_type": "code",
   "execution_count": null,
   "metadata": {},
   "outputs": [],
   "source": []
  }
 ],
 "metadata": {
  "kernelspec": {
   "display_name": "Python 3",
   "language": "python",
   "name": "python3"
  },
  "language_info": {
   "codemirror_mode": {
    "name": "ipython",
    "version": 3
   },
   "file_extension": ".py",
   "mimetype": "text/x-python",
   "name": "python",
   "nbconvert_exporter": "python",
   "pygments_lexer": "ipython3",
   "version": "3.10.11"
  },
  "orig_nbformat": 4
 },
 "nbformat": 4,
 "nbformat_minor": 2
}
