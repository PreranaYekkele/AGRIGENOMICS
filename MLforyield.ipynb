{
 "cells": [
  {
   "cell_type": "code",
   "execution_count": 2,
   "metadata": {},
   "outputs": [],
   "source": [
    "#GWAS file\n",
    "import pandas as pd\n",
    "phylogeny_file = pd.read_csv(\"phylogeny.csv\")\n",
    "yield_file = pd.read_csv(\"yield.csv\")\n",
    "GWAS_file = pd.merge(phylogeny_file,yield_file, on = \"cultivar id\", how = \"left\")\n",
    "GWAS_file.to_csv(\"GWAS_file.csv\",index=False)"
   ]
  },
  {
   "cell_type": "code",
   "execution_count": 3,
   "metadata": {},
   "outputs": [],
   "source": [
    "from sklearn.linear_model import LogisticRegression\n",
    "\n",
    "lr_height = LogisticRegression(max_iter=1000, random_state=42)\n"
   ]
  },
  {
   "cell_type": "code",
   "execution_count": 7,
   "metadata": {},
   "outputs": [
    {
     "name": "stdout",
     "output_type": "stream",
     "text": [
      "     Cluster ID cultivar id subpopulation  sequences  mean_height  Yield  0   \n",
      "0             1        C001        Indica  GCTTTTCCC       138.27  30.69  3  \\\n",
      "1             1        W261  Intermediate  GCTTTTCCC       138.27  30.69  3   \n",
      "2             2        W306   VI/Aromatic  GCTGTTCCC       129.60  28.41  3   \n",
      "3             3        C128        Indica  GCTTTTTCC       156.07  28.04  3   \n",
      "4             3        C180        Indica  GCTTTTTCC       156.07  28.04  3   \n",
      "..          ...         ...           ...        ...          ...    ... ..   \n",
      "523          73        W071        Indica  GCCGTATTT       117.34  37.47  3   \n",
      "524          73        W146        Indica  GCCGTATTT       117.34  37.47  3   \n",
      "525          73        W178        Indica  GCCGTATTT       117.34  37.47  3   \n",
      "526          73        W221        Indica  GCCGTATTT       117.34  37.47  3   \n",
      "527          73        W310        Indica  GCCGTATTT       117.34  37.47  3   \n",
      "\n",
      "     1  2  3  4  5  6  7  8  \n",
      "0    2  1  1  1  1  2  2  2  \n",
      "1    2  1  1  1  1  2  2  2  \n",
      "2    2  1  3  1  1  2  2  2  \n",
      "3    2  1  1  1  1  1  2  2  \n",
      "4    2  1  1  1  1  1  2  2  \n",
      "..  .. .. .. .. .. .. .. ..  \n",
      "523  2  2  3  1  0  1  1  1  \n",
      "524  2  2  3  1  0  1  1  1  \n",
      "525  2  2  3  1  0  1  1  1  \n",
      "526  2  2  3  1  0  1  1  1  \n",
      "527  2  2  3  1  0  1  1  1  \n",
      "\n",
      "[528 rows x 15 columns]\n"
     ]
    }
   ],
   "source": [
    "import pandas as pd\n",
    "import numpy as np\n",
    "data = pd.read_csv('GWAS_file.csv')\n",
    "dicc = {'A': 0, 'T': 1, 'C': 2, 'G': 3}\n",
    "encoded_sequences = []\n",
    "for sequence in data['sequences']:\n",
    "    encoded_sequence = np.array([dicc[nucleotide] for nucleotide in sequence])\n",
    "    encoded_sequences.append(encoded_sequence)\n",
    "encoded_data = pd.DataFrame(encoded_sequences)\n",
    "encoded_data = pd.concat([data, encoded_data], axis=1)\n",
    "encoded_data.to_csv(\"yencoded.csv\")\n",
    "print(encoded_data)\n"
   ]
  },
  {
   "cell_type": "code",
   "execution_count": 60,
   "metadata": {},
   "outputs": [
    {
     "name": "stdout",
     "output_type": "stream",
     "text": [
      "GCTTTTTTT\n",
      "Predicted Yield: [29.15]\n"
     ]
    }
   ],
   "source": [
    "import pandas as pd\n",
    "import numpy as np\n",
    "from sklearn.model_selection import train_test_split\n",
    "from sklearn.ensemble import RandomForestRegressor\n",
    "encoded_data = pd.read_csv('yencoded.csv')\n",
    "X = encoded_data.iloc[:, 7:].values\n",
    "y_yield = encoded_data['Yield'].values\n",
    "X_train, X_test, y_yield_train, y_yield_test = train_test_split(X, y_yield, test_size=0.2, random_state=42)\n",
    "rf_regressor = RandomForestRegressor(n_estimators=120, random_state=47)\n",
    "rf_regressor.fit(X_train, y_yield_train)\n",
    "new_seq = input(\"Enter DNA sequence: \")\n",
    "print(new_seq)\n",
    "new_seq_encoded = np.array([dicc[nucleotide] for nucleotide in new_seq])\n",
    "new_seq_encoded = new_seq_encoded.reshape(1, -1)\n",
    "predicted_yield = rf_regressor.predict(new_seq_encoded)\n",
    "print(\"Predicted Yield:\", predicted_yield)\n"
   ]
  },
  {
   "cell_type": "code",
   "execution_count": 64,
   "metadata": {},
   "outputs": [
    {
     "name": "stdout",
     "output_type": "stream",
     "text": [
      "Mean Squared Error: 11.685606810010533\n",
      "R-squared: 80.2%\n"
     ]
    }
   ],
   "source": [
    "from sklearn.metrics import mean_squared_error, r2_score\n",
    "\n",
    "y_yield_pred = rf_regressor.predict(X_test)\n",
    "mse = mean_squared_error(y_yield_test, y_yield_pred)\n",
    "r_squared = r2_score(y_yield_test, y_yield_pred)\n",
    "print(\"Mean Squared Error:\", mse)\n",
    "print(\"R-squared:\", str(round(r_squared*100,2))+\"%\")\n"
   ]
  },
  {
   "cell_type": "code",
   "execution_count": 65,
   "metadata": {},
   "outputs": [],
   "source": [
    "import pickle\n",
    "with open('model.pkl', 'wb') as file:\n",
    "    pickle.dump(rf_regressor, file)\n"
   ]
  },
  {
   "cell_type": "code",
   "execution_count": null,
   "metadata": {},
   "outputs": [],
   "source": []
  }
 ],
 "metadata": {
  "kernelspec": {
   "display_name": "Python 3",
   "language": "python",
   "name": "python3"
  },
  "language_info": {
   "codemirror_mode": {
    "name": "ipython",
    "version": 3
   },
   "file_extension": ".py",
   "mimetype": "text/x-python",
   "name": "python",
   "nbconvert_exporter": "python",
   "pygments_lexer": "ipython3",
   "version": "3.10.11"
  },
  "orig_nbformat": 4
 },
 "nbformat": 4,
 "nbformat_minor": 2
}
